{
 "cells": [
  {
   "cell_type": "code",
   "execution_count": 1,
   "id": "72b21184-3d24-42e5-bfa5-32807b31b3e1",
   "metadata": {},
   "outputs": [
    {
     "name": "stderr",
     "output_type": "stream",
     "text": [
      "/home/vlad/.local/lib/python3.10/site-packages/torchvision/io/image.py:13: UserWarning: Failed to load image Python extension: libc10_cuda.so: cannot open shared object file: No such file or directory\n",
      "  warn(f\"Failed to load image Python extension: {e}\")\n"
     ]
    }
   ],
   "source": [
    "import torch \n",
    "import torch.nn as nn\n",
    "import torchvision\n",
    "import torch.nn.functional as F\n",
    "import torchvision.transforms as transforms\n",
    "import matplotlib.pyplot as plt\n",
    "import numpy as np\n"
   ]
  },
  {
   "cell_type": "code",
   "execution_count": 38,
   "id": "59c5fff7-eee5-4394-8380-30222f2da485",
   "metadata": {},
   "outputs": [
    {
     "name": "stdout",
     "output_type": "stream",
     "text": [
      "Files already downloaded and verified\n",
      "Files already downloaded and verified\n"
     ]
    }
   ],
   "source": [
    "num_epoch = 30\n",
    "batch_size = 4\n",
    "learning_rate = 0.001\n",
    "\n",
    "\n",
    "transform = transforms.Compose(\n",
    "    [transforms.ToTensor(),\n",
    "     transforms.Normalize((0.5, 0.5, 0.5), (0.5, 0.5, 0.5))])\n",
    "\n",
    "\n",
    "train_dataset = torchvision.datasets.CIFAR10(root='./data', train=True, download=True, transform=transform)\n",
    "\n",
    "test_dataset = torchvision.datasets.CIFAR10(root='./data', train=False, download=True, transform=transform)\n",
    "\n",
    "\n",
    "train_loader = torch.utils.data.DataLoader(train_dataset, batch_size=batch_size)\n",
    "\n",
    "test_loader = torch.utils.data.DataLoader(test_dataset, batch_size=batch_size)\n",
    "\n",
    "classes = ('plane', 'car', 'bird', 'cat',\n",
    "           'deer', 'dog', 'frog', 'horse', 'ship', 'truck')\n"
   ]
  },
  {
   "cell_type": "code",
   "execution_count": 39,
   "id": "99ccd05a-59ea-4296-9251-4fc2fcee0804",
   "metadata": {},
   "outputs": [
    {
     "data": {
      "image/png": "[encoded data removed]",
      "text/plain": [
       "<Figure size 640x480 with 1 Axes>"
      ]
     },
     "metadata": {},
     "output_type": "display_data"
    }
   ],
   "source": [
    "\n",
    "\n",
    "def imshow(img):\n",
    "    img = img / 2 + 0.5  # unnormalize\n",
    "    npimg = img.numpy()\n",
    "    plt.imshow(np.transpose(npimg, (1, 2, 0)))\n",
    "    plt.show()\n",
    "\n",
    "dataiter = iter(train_loader)\n",
    "images, labels = dataiter.next()\n",
    "\n",
    "# show images\n",
    "imshow(torchvision.utils.make_grid(images))\n"
   ]
  },
  {
   "cell_type": "code",
   "execution_count": 40,
   "id": "83bdfeb7-29e1-43fc-a441-cc5e8bc21c82",
   "metadata": {},
   "outputs": [
    {
     "data": {
      "text/plain": [
       "torch.Size([3, 10, 10])"
      ]
     },
     "execution_count": 40,
     "metadata": {},
     "output_type": "execute_result"
    }
   ],
   "source": [
    "x = images[0]\n",
    "x = torch.ones((3,10,10))\n",
    "x.shape"
   ]
  },
  {
   "cell_type": "code",
   "execution_count": 41,
   "id": "900f243a-65eb-4001-8785-24aecef5407d",
   "metadata": {},
   "outputs": [
    {
     "data": {
      "text/plain": [
       "torch.Size([6, 7, 7])"
      ]
     },
     "execution_count": 41,
     "metadata": {},
     "output_type": "execute_result"
    }
   ],
   "source": [
    "a = nn.Conv2d(3,6,4)\n",
    "img = a(x).detach()\n",
    "\n",
    "img.shape"
   ]
  },
  {
   "cell_type": "code",
   "execution_count": 42,
   "id": "01fbdb6d-6860-4006-b054-a325ec6145dd",
   "metadata": {},
   "outputs": [],
   "source": [
    "# model \n",
    "\n",
    "class ConvNet(nn.Module):\n",
    "    def __init__(self):\n",
    "        super(ConvNet, self).__init__()\n",
    "        self.conv1 = nn.Conv2d(3,6,5) ## сверточный слой \n",
    "        self.pool = nn.MaxPool2d(2,2) ## наиболее значимые сегменты результата свертки \n",
    "        self.conv2 = nn.Conv2d(6,16,5) \n",
    "        self.func1 = nn.Linear(16 * 5 * 5, 120)\n",
    "        self.func2 = nn.Linear(120, 84)\n",
    "        self.func3 = nn.Linear(84, 10)\n",
    "        \n",
    "    def forward(self, x):\n",
    "        x = self.pool(F.relu(self.conv1(x)))\n",
    "        x = self.pool(F.relu(self.conv2(x)))\n",
    "        x = x.view(-1, 16 * 5 * 5)\n",
    "        x = F.relu(self.func1(x))\n",
    "        x = F.relu(self.func2(x))             \n",
    "        x = self.func3(x)  \n",
    "        return x\n",
    "        "
   ]
  },
  {
   "cell_type": "code",
   "execution_count": null,
   "id": "82dc44a3-a98f-4856-a6f6-d08669b44cfa",
   "metadata": {},
   "outputs": [],
   "source": [
    " "
   ]
  },
  {
   "cell_type": "code",
   "execution_count": 44,
   "id": "51156e01-5a1f-4704-8965-cd18f08d463e",
   "metadata": {},
   "outputs": [
    {
     "name": "stdout",
     "output_type": "stream",
     "text": [
      "Epoch [1/30], Loss: 2.2950\n",
      "Epoch [2/30], Loss: 1.8254\n",
      "Epoch [3/30], Loss: 1.5215\n",
      "Epoch [4/30], Loss: 1.6572\n",
      "Epoch [5/30], Loss: 1.3589\n",
      "Epoch [6/30], Loss: 1.1344\n",
      "Epoch [7/30], Loss: 0.9581\n",
      "Epoch [8/30], Loss: 0.8518\n",
      "Epoch [9/30], Loss: 0.7587\n",
      "Epoch [10/30], Loss: 0.6564\n",
      "Epoch [11/30], Loss: 0.5856\n",
      "Epoch [12/30], Loss: 0.5159\n",
      "Epoch [13/30], Loss: 0.4764\n",
      "Epoch [14/30], Loss: 0.4456\n",
      "Epoch [15/30], Loss: 0.3872\n",
      "Epoch [16/30], Loss: 0.3816\n",
      "Epoch [17/30], Loss: 0.3363\n",
      "Epoch [18/30], Loss: 0.3011\n",
      "Epoch [19/30], Loss: 0.2968\n",
      "Epoch [20/30], Loss: 0.2973\n",
      "Epoch [21/30], Loss: 0.2951\n",
      "Epoch [22/30], Loss: 0.2357\n",
      "Epoch [23/30], Loss: 0.2294\n",
      "Epoch [24/30], Loss: 0.2099\n",
      "Epoch [25/30], Loss: 0.2057\n",
      "Epoch [26/30], Loss: 0.2334\n",
      "Epoch [27/30], Loss: 0.2620\n",
      "Epoch [28/30], Loss: 0.2354\n",
      "Epoch [29/30], Loss: 0.2353\n",
      "Epoch [30/30], Loss: 0.2381\n"
     ]
    }
   ],
   "source": [
    "model = ConvNet()\n",
    "\n",
    "criterion = nn.CrossEntropyLoss()\n",
    "\n",
    "optimizer = torch.optim.SGD(model.parameters(), lr=learning_rate)\n",
    "\n",
    "for epoch in range(num_epoch):\n",
    "    for i, (images, labels) in enumerate(train_loader):\n",
    "        \n",
    "        predictions = model(images)\n",
    "        loss = criterion(predictions, labels)\n",
    "        \n",
    "        optimizer.zero_grad()\n",
    "        loss.backward()\n",
    "        optimizer.step()\n",
    "        \n",
    "        if i % 20000 == 0:\n",
    "            print (f'Epoch [{epoch+1}/{num_epoch}], Loss: {loss.item():.4f}')\n",
    "            \n"
   ]
  },
  {
   "cell_type": "code",
   "execution_count": 45,
   "id": "fc462978-019e-4e6f-8770-0df898645888",
   "metadata": {},
   "outputs": [
    {
     "name": "stdout",
     "output_type": "stream",
     "text": [
      "Accuracy of the network: 62.84 %\n",
      "Accuracy of plane: 64.4 %\n",
      "Accuracy of car: 80.4 %\n",
      "Accuracy of bird: 52.4 %\n",
      "Accuracy of cat: 48.1 %\n",
      "Accuracy of deer: 53.9 %\n",
      "Accuracy of dog: 38.5 %\n",
      "Accuracy of frog: 74.1 %\n",
      "Accuracy of horse: 76.2 %\n",
      "Accuracy of ship: 70.4 %\n",
      "Accuracy of truck: 70.0 %\n"
     ]
    }
   ],
   "source": [
    "with torch.no_grad():\n",
    "    n_correct = 0\n",
    "    n_samples = 0\n",
    "    n_class_correct = [0 for i in range(10)]\n",
    "    n_class_samples = [0 for i in range(10)]\n",
    "    \n",
    "    for images, labels in test_loader:\n",
    "        \n",
    "        outputs = model(images)\n",
    "        # max returns (value ,index)\n",
    "        _, predicted = torch.max(outputs, 1)\n",
    "        n_samples += labels.size(0)\n",
    "        n_correct += (predicted == labels).sum().item()\n",
    "        \n",
    "        for i in range(batch_size):\n",
    "            label = labels[i]\n",
    "            pred = predicted[i]\n",
    "            if (label == pred):\n",
    "                n_class_correct[label] += 1\n",
    "            n_class_samples[label] += 1\n",
    "\n",
    "    acc = 100.0 * n_correct / n_samples\n",
    "    print(f'Accuracy of the network: {acc} %')\n",
    "\n",
    "    for i in range(10):\n",
    "        acc = 100.0 * n_class_correct[i] / n_class_samples[i]\n",
    "        print(f'Accuracy of {classes[i]}: {acc} %')"
   ]
  },
  {
   "cell_type": "code",
   "execution_count": null,
   "id": "84d64054-920c-410a-8ef6-7378e9324fd9",
   "metadata": {},
   "outputs": [],
   "source": []
  }
 ],
 "metadata": {
  "kernelspec": {
   "display_name": "Python 3 (ipykernel)",
   "language": "python",
   "name": "python3"
  },
  "language_info": {
   "codemirror_mode": {
    "name": "ipython",
    "version": 3
   },
   "file_extension": ".py",
   "mimetype": "text/x-python",
   "name": "python",
   "nbconvert_exporter": "python",
   "pygments_lexer": "ipython3",
   "version": "3.10.8"
  }
 },
 "nbformat": 4,
 "nbformat_minor": 5
}
