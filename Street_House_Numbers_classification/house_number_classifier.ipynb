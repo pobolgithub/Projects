{
 "cells": [
  {
   "cell_type": "code",
   "execution_count": null,
   "id": "53235ea0-bb03-4090-979e-9747076fc0f2",
   "metadata": {},
   "outputs": [],
   "source": []
  },
  {
   "cell_type": "code",
   "execution_count": null,
   "id": "ca279f9d-4353-4c7a-b81b-f25a3455a224",
   "metadata": {},
   "outputs": [],
   "source": [
    "\n",
    "\n",
    "\n",
    "X_train, y_train, X_test, y_test = load_svhn('../../datasets/house_numbers_data', max_train=1000, max_test=100)\n",
    "\n",
    "train_loader = torch.utils.data.DataLoader(dataset=X_train, batch_size=batch_size, shuffle=True)\n",
    "\n",
    "test_loader = torch.utils.data.DataLoader(dataset=X_test, batch_size=batch_size, shuffle=False)\n",
    "\n",
    "plot_index =1 \n",
    "for i in range(5):\n",
    "    for class_label in range(10):\n",
    "    \n",
    "        plt.subplot(5,10,plot_index)\n",
    "        image = X_train[y_train == class_label][i]\n",
    "        plt.imshow(image.astype(np.uint8))\n",
    "        plt.axis('off')\n",
    "        plot_index += 1\n",
    "        \n",
    "\n",
    "X_train = torch.from_numpy(X_train)\n",
    "X_test = torch.from_numpy(X_test)\n",
    "\n",
    "y_train = torch.from_numpy(y_train)\n",
    "y_test = torch.from_numpy(y_test)\n",
    "\n"
   ]
  }
 ],
 "metadata": {
  "kernelspec": {
   "display_name": "Python 3 (ipykernel)",
   "language": "python",
   "name": "python3"
  },
  "language_info": {
   "codemirror_mode": {
    "name": "ipython",
    "version": 3
   },
   "file_extension": ".py",
   "mimetype": "text/x-python",
   "name": "python",
   "nbconvert_exporter": "python",
   "pygments_lexer": "ipython3",
   "version": "3.10.8"
  }
 },
 "nbformat": 4,
 "nbformat_minor": 5
}
